{
 "cells": [
  {
   "cell_type": "markdown",
   "metadata": {},
   "source": [
    "scripts/rsl_rl/train.py\n",
    "```python\n",
    "@hydra_task_config(args_cli.task, \"rsl_rl_cfg_entry_point\")\n",
    "def main(env_cfg: ManagerBasedRLEnvCfg | DirectRLEnvCfg | DirectMARLEnvCfg, agent_cfg: RslRlOnPolicyRunnerCfg):\n",
    "    # ...\n",
    "    # create isaac environment\n",
    "    env = gym.make(args_cli.task, cfg=env_cfg, render_mode=\"rgb_array\" if args_cli.video else None)\n",
    "    # ...\n",
    "    # wrap around environment for rsl-rl\n",
    "    env = RslRlVecEnvWrapper(env)\n",
    "    # create runner from rsl-rl\n",
    "    runner = OnPolicyRunner(env, agent_cfg.to_dict(), log_dir=log_dir, device=agent_cfg.device)\n",
    "    # ...\n",
    "    # run training\n",
    "    runner.learn(num_learning_iterations=agent_cfg.max_iterations, init_at_random_ep_len=True)\n",
    "    # close the simulator\n",
    "    env.close()\n",
    "```"
   ]
  },
  {
   "cell_type": "markdown",
   "metadata": {},
   "source": [
    "↓decorator 负责解析并提供 env_cfg 和 agent_cfg "
   ]
  },
  {
   "cell_type": "markdown",
   "metadata": {},
   "source": [
    "```python\n",
    "def hydra_task_config(task_name: str, agent_cfg_entry_point: str) -> Callable:\n",
    "    #...\n",
    "    env_cfg, agent_cfg = register_task_to_hydra(task_name, agent_cfg_entry_point)\n",
    "    #...\n",
    "```"
   ]
  },
  {
   "cell_type": "markdown",
   "metadata": {},
   "source": [
    "↓"
   ]
  },
  {
   "cell_type": "markdown",
   "metadata": {},
   "source": [
    "```python\n",
    "def register_task_to_hydra(\n",
    "    task_name: str, agent_cfg_entry_point: str\n",
    ") -> tuple[ManagerBasedRLEnvCfg | DirectRLEnvCfg, dict]：\n",
    "    # ...\n",
    "    env_cfg = load_cfg_from_registry(task_name, \"env_cfg_entry_point\")\n",
    "    agent_cfg = load_cfg_from_registry(task_name, agent_cfg_entry_point)\n",
    "    # ...\n",
    "```"
   ]
  },
  {
   "cell_type": "markdown",
   "metadata": {},
   "source": [
    "↓"
   ]
  },
  {
   "cell_type": "markdown",
   "metadata": {},
   "source": [
    "```python\n",
    "def load_cfg_from_registry(task_name: str, entry_point_key: str) -> dict | object:\n",
    "    \"\"\"It supports both YAML and Python configuration files.\n",
    "    If the entry point is a YAML file, it is parsed into a dictionary.\n",
    "    If the entry point is a Python class, it is instantiated and returned.\"\"\"\n",
    "    # obtain the configuration entry point\n",
    "    cfg_entry_point = gym.spec(task_name).kwargs.get(entry_point_key)\n",
    "    # 如果 cfg_entry_point 是一个以 .yaml 结尾的字符串\n",
    "    # 如果 cfg_entry_point 是可调用的（例如是一个函数或类）\n",
    "    # 如果 cfg_entry_point 是字符串（格式为 \"module_name:attr_name\"）\n",
    "    # ...\n",
    "```"
   ]
  },
  {
   "cell_type": "markdown",
   "metadata": {},
   "source": [
    ".e.g\n",
    "```python\n",
    "import gymnasium as gym\n",
    "from . import agents\n",
    "from .zbot6b_env_v0 import ZbotBEnv, ZbotBEnvCfg\n",
    "##\n",
    "# Register Gym environments.\n",
    "##\n",
    "gym.register(\n",
    "    id=\"Zbot-6b-walking-v0\",\n",
    "    entry_point=\"Zbot.tasks.moving.zbot6b_direct:ZbotBEnv\",\n",
    "    disable_env_checker=True,\n",
    "    kwargs={\n",
    "        \"env_cfg_entry_point\": ZbotBEnvCfg, \n",
    "        \"rsl_rl_cfg_entry_point\": f\"{agents.__name__}.rsl_rl_ppo_cfg:ZbotSBFlatPPORunnerCfg\",\n",
    "    },\n",
    ")\n",
    "```"
   ]
  }
 ],
 "metadata": {
  "kernelspec": {
   "display_name": "isaaclab",
   "language": "python",
   "name": "python3"
  },
  "language_info": {
   "name": "python",
   "version": "3.10.14"
  }
 },
 "nbformat": 4,
 "nbformat_minor": 2
}
